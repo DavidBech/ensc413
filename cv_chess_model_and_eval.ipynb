{
  "cells": [
    {
      "cell_type": "code",
      "execution_count": 1,
      "metadata": {
        "colab": {},
        "colab_type": "code",
        "id": "8ldZe6OlwiuP"
      },
      "outputs": [],
      "source": [
        "import numpy as np\n",
        "import tensorflow as tf\n",
        "from tensorflow import keras\n",
        "from tensorflow.keras import layers"
      ]
    },
    {
      "cell_type": "code",
      "execution_count": 2,
      "metadata": {
        "colab": {},
        "colab_type": "code",
        "id": "Z-NS0l7Jwyb2"
      },
      "outputs": [],
      "source": [
        "folder = './Data'\n",
        "image_size = (224, 224)\n",
        "batch_size = 32"
      ]
    },
    {
      "cell_type": "code",
      "execution_count": 3,
      "metadata": {
        "colab": {},
        "colab_type": "code",
        "id": "-OeAL7oFyWnO"
      },
      "outputs": [],
      "source": [
        "from keras.preprocessing.image import ImageDataGenerator\n",
        "\n",
        "datagen = ImageDataGenerator(\n",
        "        rotation_range=5,\n",
        "        # width_shift_range=0.1,\n",
        "        # height_shift_range=0.1,\n",
        "        rescale=1./255,\n",
        "        horizontal_flip=True,\n",
        "        fill_mode='nearest')\n",
        "\n",
        "test_datagen = ImageDataGenerator(rescale=1./255)"
      ]
    },
    {
      "cell_type": "code",
      "execution_count": 4,
      "metadata": {
        "colab": {
          "base_uri": "https://localhost:8080/",
          "height": 51
        },
        "colab_type": "code",
        "id": "5FzaqjxD0cwd",
        "outputId": "1e647b4c-c0fb-4e4f-ea55-157075190182"
      },
      "outputs": [
        {
          "name": "stdout",
          "output_type": "stream",
          "text": [
            "Found 14135 images belonging to 13 classes.\n",
            "Found 1545 images belonging to 13 classes.\n"
          ]
        }
      ],
      "source": [
        "train_gen = datagen.flow_from_directory(\n",
        "    folder + '/train',\n",
        "    target_size = image_size,\n",
        "    batch_size = batch_size,\n",
        "    class_mode = 'categorical',\n",
        "    color_mode = 'rgb',\n",
        "    shuffle=True  \n",
        ")\n",
        "\n",
        "test_gen = test_datagen.flow_from_directory(\n",
        "    folder + '/test',\n",
        "    target_size = image_size,\n",
        "    batch_size = batch_size,\n",
        "    class_mode = 'categorical',\n",
        "    color_mode = 'rgb',\n",
        "    shuffle=False \n",
        ")"
      ]
    },
    {
      "cell_type": "code",
      "execution_count": 5,
      "metadata": {
        "colab": {
          "base_uri": "https://localhost:8080/",
          "height": 969
        },
        "colab_type": "code",
        "id": "Plq6_55C1MPc",
        "outputId": "b943a7e2-a63c-416c-dcad-93e89d5c6850"
      },
      "outputs": [
        {
          "name": "stdout",
          "output_type": "stream",
          "text": [
            "Model: \"vgg16\"\n",
            "_________________________________________________________________\n",
            " Layer (type)                Output Shape              Param #   \n",
            "=================================================================\n",
            " input_1 (InputLayer)        [(None, 224, 224, 3)]     0         \n",
            "                                                                 \n",
            " block1_conv1 (Conv2D)       (None, 224, 224, 64)      1792      \n",
            "                                                                 \n",
            " block1_conv2 (Conv2D)       (None, 224, 224, 64)      36928     \n",
            "                                                                 \n",
            " block1_pool (MaxPooling2D)  (None, 112, 112, 64)      0         \n",
            "                                                                 \n",
            " block2_conv1 (Conv2D)       (None, 112, 112, 128)     73856     \n",
            "                                                                 \n",
            " block2_conv2 (Conv2D)       (None, 112, 112, 128)     147584    \n",
            "                                                                 \n",
            " block2_pool (MaxPooling2D)  (None, 56, 56, 128)       0         \n",
            "                                                                 \n",
            " block3_conv1 (Conv2D)       (None, 56, 56, 256)       295168    \n",
            "                                                                 \n",
            " block3_conv2 (Conv2D)       (None, 56, 56, 256)       590080    \n",
            "                                                                 \n",
            " block3_conv3 (Conv2D)       (None, 56, 56, 256)       590080    \n",
            "                                                                 \n",
            " block3_pool (MaxPooling2D)  (None, 28, 28, 256)       0         \n",
            "                                                                 \n",
            " block4_conv1 (Conv2D)       (None, 28, 28, 512)       1180160   \n",
            "                                                                 \n",
            " block4_conv2 (Conv2D)       (None, 28, 28, 512)       2359808   \n",
            "                                                                 \n",
            " block4_conv3 (Conv2D)       (None, 28, 28, 512)       2359808   \n",
            "                                                                 \n",
            " block4_pool (MaxPooling2D)  (None, 14, 14, 512)       0         \n",
            "                                                                 \n",
            " block5_conv1 (Conv2D)       (None, 14, 14, 512)       2359808   \n",
            "                                                                 \n",
            " block5_conv2 (Conv2D)       (None, 14, 14, 512)       2359808   \n",
            "                                                                 \n",
            " block5_conv3 (Conv2D)       (None, 14, 14, 512)       2359808   \n",
            "                                                                 \n",
            " block5_pool (MaxPooling2D)  (None, 7, 7, 512)         0         \n",
            "                                                                 \n",
            " flatten (Flatten)           (None, 25088)             0         \n",
            "                                                                 \n",
            " fc1 (Dense)                 (None, 4096)              102764544 \n",
            "                                                                 \n",
            " fc2 (Dense)                 (None, 4096)              16781312  \n",
            "                                                                 \n",
            " predictions (Dense)         (None, 1000)              4097000   \n",
            "                                                                 \n",
            "=================================================================\n",
            "Total params: 138,357,544\n",
            "Trainable params: 138,357,544\n",
            "Non-trainable params: 0\n",
            "_________________________________________________________________\n"
          ]
        }
      ],
      "source": [
        "from keras.applications.vgg16 import VGG16\n",
        "from keras.applications.imagenet_utils import decode_predictions\n",
        "\n",
        "model = VGG16(weights='imagenet')\n",
        "model.summary()"
      ]
    },
    {
      "cell_type": "code",
      "execution_count": 6,
      "metadata": {
        "colab": {
          "base_uri": "https://localhost:8080/",
          "height": 51
        },
        "colab_type": "code",
        "id": "7J1btS1W3JBP",
        "outputId": "8fcb326b-acc0-46d8-ecbe-dd45978f1aa0"
      },
      "outputs": [],
      "source": [
        "from keras.models import Sequential\n",
        "from keras.layers import Dense, Conv2D, MaxPooling2D, Flatten\n",
        "from keras.models import Model\n",
        "\n",
        "base_model = VGG16(weights='imagenet', include_top=False, input_shape=(224,224,3)) \n",
        " \n",
        "# Freeze convolutional layers\n",
        "for layer in base_model.layers:\n",
        "    layer.trainable = False    \n",
        "\n",
        "# Establish new fully connected block\n",
        "x = base_model.output\n",
        "x = Flatten()(x)  # flatten from convolution tensor output  \n",
        "x = Dense(500, activation='relu')(x) # number of layers and units are hyperparameters, as usual\n",
        "x = Dense(500, activation='relu')(x)\n",
        "predictions = Dense(13, activation='softmax')(x) # should match # of classes predicted\n",
        "\n",
        "# this is the model we will train\n",
        "model = Model(inputs=base_model.input, outputs=predictions)\n",
        "model.compile(optimizer='adam', loss='categorical_crossentropy', metrics=['categorical_accuracy'])"
      ]
    },
    {
      "cell_type": "code",
      "execution_count": 7,
      "metadata": {
        "colab": {
          "base_uri": "https://localhost:8080/",
          "height": 377
        },
        "colab_type": "code",
        "id": "NWwMLiUu3Q34",
        "outputId": "d50fce4d-5ccb-4cbf-e5ba-da12835bbc48"
      },
      "outputs": [
        {
          "name": "stdout",
          "output_type": "stream",
          "text": [
            "Epoch 1/10\n",
            "442/442 [==============================] - 134s 296ms/step - loss: 0.2461 - categorical_accuracy: 0.9532 - val_loss: 0.1192 - val_categorical_accuracy: 0.9689\n",
            "Epoch 2/10\n",
            "442/442 [==============================] - 129s 292ms/step - loss: 0.0808 - categorical_accuracy: 0.9827 - val_loss: 0.1045 - val_categorical_accuracy: 0.9793\n",
            "Epoch 3/10\n",
            "442/442 [==============================] - 127s 287ms/step - loss: 0.0768 - categorical_accuracy: 0.9832 - val_loss: 0.0807 - val_categorical_accuracy: 0.9877\n",
            "Epoch 4/10\n",
            "442/442 [==============================] - 124s 280ms/step - loss: 0.0677 - categorical_accuracy: 0.9854 - val_loss: 0.1079 - val_categorical_accuracy: 0.9786\n",
            "Epoch 5/10\n",
            "442/442 [==============================] - 126s 284ms/step - loss: 0.0597 - categorical_accuracy: 0.9871 - val_loss: 0.0891 - val_categorical_accuracy: 0.9832\n",
            "Epoch 6/10\n",
            "442/442 [==============================] - 124s 280ms/step - loss: 0.0544 - categorical_accuracy: 0.9871 - val_loss: 0.1309 - val_categorical_accuracy: 0.9618\n",
            "Epoch 7/10\n",
            "442/442 [==============================] - 130s 293ms/step - loss: 0.0571 - categorical_accuracy: 0.9866 - val_loss: 0.0897 - val_categorical_accuracy: 0.9896\n",
            "Epoch 8/10\n",
            "442/442 [==============================] - 132s 299ms/step - loss: 0.0465 - categorical_accuracy: 0.9893 - val_loss: 0.0805 - val_categorical_accuracy: 0.9890\n",
            "Epoch 9/10\n",
            "442/442 [==============================] - 134s 303ms/step - loss: 0.0557 - categorical_accuracy: 0.9869 - val_loss: 0.0694 - val_categorical_accuracy: 0.9851\n",
            "Epoch 10/10\n",
            "442/442 [==============================] - 134s 304ms/step - loss: 0.0427 - categorical_accuracy: 0.9902 - val_loss: 0.0775 - val_categorical_accuracy: 0.9903\n"
          ]
        }
      ],
      "source": [
        "epochs = 10\n",
        "\n",
        "history = model.fit(\n",
        "    train_gen, \n",
        "    epochs=epochs,\n",
        "    verbose = 1,\n",
        "    validation_data=test_gen\n",
        "    )\n",
        "model.save_weights('model_VGG16.h5') "
      ]
    },
    {
      "cell_type": "code",
      "execution_count": 9,
      "metadata": {
        "colab": {
          "base_uri": "https://localhost:8080/",
          "height": 349
        },
        "colab_type": "code",
        "id": "w2oNGGKeLo5n",
        "outputId": "11cfc189-0a0a-4c48-c3ba-74b77dce29e4"
      },
      "outputs": [
        {
          "data": {
            "image/png": "[encoded data removed]",
            "text/plain": [
              "<Figure size 432x288 with 1 Axes>"
            ]
          },
          "metadata": {
            "needs_background": "light"
          },
          "output_type": "display_data"
        }
      ],
      "source": [
        "import seaborn as sn\n",
        "import matplotlib.pyplot as plt\n",
        "import pandas as pd\n",
        "\n",
        "plt.plot(history.history['categorical_accuracy'], 'ko')\n",
        "plt.plot(history.history['val_categorical_accuracy'], 'b')\n",
        "\n",
        "plt.title('Accuracy vs Training Epoch')\n",
        "plt.xlabel('Epoch')\n",
        "plt.ylabel('Accuracy')\n",
        "plt.legend(['Train', 'Validation']);"
      ]
    },
    {
      "cell_type": "code",
      "execution_count": 10,
      "metadata": {
        "colab": {
          "base_uri": "https://localhost:8080/",
          "height": 943
        },
        "colab_type": "code",
        "id": "3P7FHX05MLUD",
        "outputId": "0c7987d1-75fb-4449-a8e6-5f5e07514289"
      },
      "outputs": [
        {
          "name": "stderr",
          "output_type": "stream",
          "text": [
            "C:\\Users\\David\\anaconda3\\envs\\ensc413-s2022\\lib\\site-packages\\ipykernel_launcher.py:6: UserWarning: `Model.predict_generator` is deprecated and will be removed in a future version. Please use `Model.predict`, which supports generators.\n",
            "  \n"
          ]
        },
        {
          "name": "stdout",
          "output_type": "stream",
          "text": [
            "1.9125\n"
          ]
        },
        {
          "data": {
            "text/plain": [
              "<AxesSubplot:xlabel='Predicted', ylabel='Actual'>"
            ]
          },
          "execution_count": 10,
          "metadata": {},
          "output_type": "execute_result"
        },
        {
          "data": {
            "image/png": "[encoded data removed]",
            "text/plain": [
              "<Figure size 1440x1008 with 2 Axes>"
            ]
          },
          "metadata": {
            "needs_background": "light"
          },
          "output_type": "display_data"
        }
      ],
      "source": [
        "from sklearn.metrics import classification_report, confusion_matrix\n",
        "\n",
        "target_names = ['BB', 'BK', 'BN', 'BP', 'BQ', 'BR', 'Empty', 'WB', 'WK', 'WN', 'WP', 'WQ', 'WR']\n",
        "\n",
        "test_gen.reset()\n",
        "Y_pred = model.predict_generator(test_gen)\n",
        "classes = test_gen.classes[test_gen.index_array]\n",
        "y_pred = np.argmax(Y_pred, axis= -1)\n",
        "print(sum(y_pred==classes)/800)\n",
        "\n",
        "\n",
        "data = confusion_matrix(classes, y_pred)\n",
        "df_cm = pd.DataFrame(data, columns=target_names, index = target_names)\n",
        "df_cm.index.name = 'Actual'\n",
        "df_cm.columns.name = 'Predicted'\n",
        "plt.figure(figsize = (20,14))\n",
        "sn.set(font_scale=1.4)#for label size\n",
        "sn.heatmap(df_cm, cmap=\"Blues\", annot=True,annot_kws={\"size\": 16})# font size"
      ]
    },
    {
      "cell_type": "code",
      "execution_count": 11,
      "metadata": {
        "colab": {
          "base_uri": "https://localhost:8080/",
          "height": 612
        },
        "colab_type": "code",
        "id": "RwuWZwvy4VcS",
        "outputId": "28084712-1526-44c5-cd52-0f74b0d4dc84"
      },
      "outputs": [
        {
          "name": "stdout",
          "output_type": "stream",
          "text": [
            "Confusion Matrix\n",
            "[[   9    0    0    0    0    0    0    0    0    0    1    0    0]\n",
            " [   0   19    0    0    0    0    1    0    0    0    0    0    0]\n",
            " [   0    0   19    0    0    0    0    0    0    0    0    0    0]\n",
            " [   0    0    0   55    0    0    1    0    0    0    0    0    0]\n",
            " [   0    0    0    0    1    0    0    0    0    0    0    0    0]\n",
            " [   0    0    1    1    0   13    0    0    0    0    0    0    0]\n",
            " [   0    0    0    0    0    0 1283    2    1    1    1    1    0]\n",
            " [   0    0    0    0    0    0    0   14    0    0    0    0    0]\n",
            " [   0    0    0    0    0    0    1    0   11    0    0    0    0]\n",
            " [   0    0    0    0    0    0    1    0    0   18    0    0    0]\n",
            " [   0    0    0    0    0    0    1    0    0    0   64    0    0]\n",
            " [   0    0    0    0    0    0    0    0    0    0    0    7    0]\n",
            " [   0    0    0    0    0    0    1    0    0    0    0    0   17]]\n",
            "Classification Report\n",
            "              precision    recall  f1-score   support\n",
            "\n",
            "          BB       1.00      0.90      0.95        10\n",
            "          BK       1.00      0.95      0.97        20\n",
            "          BN       0.95      1.00      0.97        19\n",
            "          BP       0.98      0.98      0.98        56\n",
            "          BQ       1.00      1.00      1.00         1\n",
            "          BR       1.00      0.87      0.93        15\n",
            "       Empty       1.00      1.00      1.00      1289\n",
            "          WB       0.88      1.00      0.93        14\n",
            "          WK       0.92      0.92      0.92        12\n",
            "          WN       0.95      0.95      0.95        19\n",
            "          WP       0.97      0.98      0.98        65\n",
            "          WQ       0.88      1.00      0.93         7\n",
            "          WR       1.00      0.94      0.97        18\n",
            "\n",
            "    accuracy                           0.99      1545\n",
            "   macro avg       0.96      0.96      0.96      1545\n",
            "weighted avg       0.99      0.99      0.99      1545\n",
            "\n"
          ]
        }
      ],
      "source": [
        "print('Confusion Matrix')\n",
        "print(data)\n",
        "print('Classification Report')\n",
        "print(classification_report(test_gen.classes[test_gen.index_array], y_pred, target_names=target_names))"
      ]
    },
    {
      "cell_type": "code",
      "execution_count": 12,
      "metadata": {
        "colab": {
          "base_uri": "https://localhost:8080/",
          "height": 1000
        },
        "colab_type": "code",
        "id": "u3bYZ_36oVv-",
        "outputId": "695ad3bf-8d90-41fe-b6eb-481488eb5380"
      },
      "outputs": [
        {
          "name": "stdout",
          "output_type": "stream",
          "text": [
            "Model: \"vgg19\"\n",
            "_________________________________________________________________\n",
            " Layer (type)                Output Shape              Param #   \n",
            "=================================================================\n",
            " input_3 (InputLayer)        [(None, 224, 224, 3)]     0         \n",
            "                                                                 \n",
            " block1_conv1 (Conv2D)       (None, 224, 224, 64)      1792      \n",
            "                                                                 \n",
            " block1_conv2 (Conv2D)       (None, 224, 224, 64)      36928     \n",
            "                                                                 \n",
            " block1_pool (MaxPooling2D)  (None, 112, 112, 64)      0         \n",
            "                                                                 \n",
            " block2_conv1 (Conv2D)       (None, 112, 112, 128)     73856     \n",
            "                                                                 \n",
            " block2_conv2 (Conv2D)       (None, 112, 112, 128)     147584    \n",
            "                                                                 \n",
            " block2_pool (MaxPooling2D)  (None, 56, 56, 128)       0         \n",
            "                                                                 \n",
            " block3_conv1 (Conv2D)       (None, 56, 56, 256)       295168    \n",
            "                                                                 \n",
            " block3_conv2 (Conv2D)       (None, 56, 56, 256)       590080    \n",
            "                                                                 \n",
            " block3_conv3 (Conv2D)       (None, 56, 56, 256)       590080    \n",
            "                                                                 \n",
            " block3_conv4 (Conv2D)       (None, 56, 56, 256)       590080    \n",
            "                                                                 \n",
            " block3_pool (MaxPooling2D)  (None, 28, 28, 256)       0         \n",
            "                                                                 \n",
            " block4_conv1 (Conv2D)       (None, 28, 28, 512)       1180160   \n",
            "                                                                 \n",
            " block4_conv2 (Conv2D)       (None, 28, 28, 512)       2359808   \n",
            "                                                                 \n",
            " block4_conv3 (Conv2D)       (None, 28, 28, 512)       2359808   \n",
            "                                                                 \n",
            " block4_conv4 (Conv2D)       (None, 28, 28, 512)       2359808   \n",
            "                                                                 \n",
            " block4_pool (MaxPooling2D)  (None, 14, 14, 512)       0         \n",
            "                                                                 \n",
            " block5_conv1 (Conv2D)       (None, 14, 14, 512)       2359808   \n",
            "                                                                 \n",
            " block5_conv2 (Conv2D)       (None, 14, 14, 512)       2359808   \n",
            "                                                                 \n",
            " block5_conv3 (Conv2D)       (None, 14, 14, 512)       2359808   \n",
            "                                                                 \n",
            " block5_conv4 (Conv2D)       (None, 14, 14, 512)       2359808   \n",
            "                                                                 \n",
            " block5_pool (MaxPooling2D)  (None, 7, 7, 512)         0         \n",
            "                                                                 \n",
            " flatten (Flatten)           (None, 25088)             0         \n",
            "                                                                 \n",
            " fc1 (Dense)                 (None, 4096)              102764544 \n",
            "                                                                 \n",
            " fc2 (Dense)                 (None, 4096)              16781312  \n",
            "                                                                 \n",
            " predictions (Dense)         (None, 1000)              4097000   \n",
            "                                                                 \n",
            "=================================================================\n",
            "Total params: 143,667,240\n",
            "Trainable params: 143,667,240\n",
            "Non-trainable params: 0\n",
            "_________________________________________________________________\n"
          ]
        }
      ],
      "source": [
        "from keras.applications.vgg19 import VGG19\n",
        "from keras.applications.imagenet_utils import decode_predictions\n",
        "\n",
        "model_two = VGG19(weights='imagenet')\n",
        "model_two.summary()"
      ]
    },
    {
      "cell_type": "code",
      "execution_count": 13,
      "metadata": {
        "colab": {
          "base_uri": "https://localhost:8080/",
          "height": 51
        },
        "colab_type": "code",
        "id": "wopOBbpwvftf",
        "outputId": "d6022a56-f83c-4e00-b61c-07c50c13a7fc"
      },
      "outputs": [],
      "source": [
        "from keras.models import Sequential\n",
        "from keras.layers import Dense, Conv2D, MaxPooling2D, Flatten\n",
        "from keras.models import Model\n",
        "\n",
        "base_model_two = VGG19(weights='imagenet', include_top=False, input_shape=(224,224,3)) \n",
        " \n",
        "# Freeze convolutional layers\n",
        "for layer in base_model_two.layers:\n",
        "    layer.trainable = False    \n",
        "\n",
        "# Establish new fully connected block\n",
        "x = base_model_two.output\n",
        "x = Flatten()(x)  # flatten from convolution tensor output  \n",
        "x = Dense(500, activation='relu')(x) # number of layers and units are hyperparameters, as usual\n",
        "x = Dense(500, activation='relu')(x)\n",
        "predictions = Dense(13, activation='softmax')(x) # should match # of classes predicted\n",
        "\n",
        "# this is the model we will train\n",
        "model_two = Model(inputs=base_model_two.input, outputs=predictions)\n",
        "model_two.compile(optimizer='adam', loss='categorical_crossentropy', metrics=['accuracy'])"
      ]
    },
    {
      "cell_type": "code",
      "execution_count": 14,
      "metadata": {
        "colab": {
          "base_uri": "https://localhost:8080/",
          "height": 357
        },
        "colab_type": "code",
        "id": "X0nH7g1Zv3c_",
        "outputId": "6332c1db-a56d-4e60-92fd-391919a60348"
      },
      "outputs": [
        {
          "name": "stdout",
          "output_type": "stream",
          "text": [
            "Epoch 1/5\n",
            "442/442 [==============================] - 139s 314ms/step - loss: 0.2434 - accuracy: 0.9504 - val_loss: 0.1563 - val_accuracy: 0.9573\n",
            "Epoch 2/5\n",
            "442/442 [==============================] - 140s 317ms/step - loss: 0.1052 - accuracy: 0.9749 - val_loss: 0.1196 - val_accuracy: 0.9728\n",
            "Epoch 3/5\n",
            "442/442 [==============================] - 144s 326ms/step - loss: 0.0793 - accuracy: 0.9810 - val_loss: 0.1071 - val_accuracy: 0.9735\n",
            "Epoch 4/5\n",
            "442/442 [==============================] - 142s 321ms/step - loss: 0.0789 - accuracy: 0.9820 - val_loss: 0.1015 - val_accuracy: 0.9767\n",
            "Epoch 5/5\n",
            "442/442 [==============================] - 139s 315ms/step - loss: 0.0694 - accuracy: 0.9844 - val_loss: 0.0979 - val_accuracy: 0.9871\n"
          ]
        }
      ],
      "source": [
        "epochs = 5\n",
        "\n",
        "history = model_two.fit(\n",
        "    train_gen, \n",
        "    epochs=epochs,\n",
        "    verbose = 1,\n",
        "    validation_data=test_gen\n",
        "    )\n",
        "model.save_weights('model_VGG19.h5') "
      ]
    },
    {
      "cell_type": "code",
      "execution_count": 15,
      "metadata": {
        "colab": {
          "base_uri": "https://localhost:8080/",
          "height": 629
        },
        "colab_type": "code",
        "id": "aI_NxGBNwxaU",
        "outputId": "aeb9c5fe-7073-4339-afcc-b737e8604fb6"
      },
      "outputs": [
        {
          "name": "stderr",
          "output_type": "stream",
          "text": [
            "C:\\Users\\David\\anaconda3\\envs\\ensc413-s2022\\lib\\site-packages\\ipykernel_launcher.py:2: UserWarning: `Model.predict_generator` is deprecated and will be removed in a future version. Please use `Model.predict`, which supports generators.\n",
            "  \n"
          ]
        },
        {
          "name": "stdout",
          "output_type": "stream",
          "text": [
            "1.90625\n",
            "Confusion Matrix\n",
            "[[  10    0    0    0    0    0    0    0    0    0    0    0    0]\n",
            " [   0   17    0    0    1    0    1    0    1    0    0    0    0]\n",
            " [   0    0   19    0    0    0    0    0    0    0    0    0    0]\n",
            " [   0    0    0   55    0    0    1    0    0    0    0    0    0]\n",
            " [   0    0    0    0    1    0    0    0    0    0    0    0    0]\n",
            " [   1    0    1    0    0   13    0    0    0    0    0    0    0]\n",
            " [   0    0    0    0    0    0 1283    2    1    1    1    1    0]\n",
            " [   0    0    0    0    0    0    0   13    0    0    0    1    0]\n",
            " [   0    0    0    0    0    0    1    0   11    0    0    0    0]\n",
            " [   0    0    0    0    0    0    1    0    0   16    0    1    1]\n",
            " [   0    0    0    0    0    0    1    0    0    0   64    0    0]\n",
            " [   0    0    0    0    0    0    0    0    0    0    0    7    0]\n",
            " [   0    0    0    0    0    0    1    0    0    1    0    0   16]]\n",
            "Classification Report\n",
            "              precision    recall  f1-score   support\n",
            "\n",
            "          BB       0.91      1.00      0.95        10\n",
            "          BK       1.00      0.85      0.92        20\n",
            "          BN       0.95      1.00      0.97        19\n",
            "          BP       1.00      0.98      0.99        56\n",
            "          BQ       0.50      1.00      0.67         1\n",
            "          BR       1.00      0.87      0.93        15\n",
            "       Empty       1.00      1.00      1.00      1289\n",
            "          WB       0.87      0.93      0.90        14\n",
            "          WK       0.85      0.92      0.88        12\n",
            "          WN       0.89      0.84      0.86        19\n",
            "          WP       0.98      0.98      0.98        65\n",
            "          WQ       0.70      1.00      0.82         7\n",
            "          WR       0.94      0.89      0.91        18\n",
            "\n",
            "    accuracy                           0.99      1545\n",
            "   macro avg       0.89      0.94      0.91      1545\n",
            "weighted avg       0.99      0.99      0.99      1545\n",
            "\n"
          ]
        }
      ],
      "source": [
        "test_gen.reset()\n",
        "Y_pred = model_two.predict_generator(test_gen)\n",
        "classes = test_gen.classes[test_gen.index_array]\n",
        "y_pred = np.argmax(Y_pred, axis= -1)\n",
        "print(sum(y_pred==classes)/800)\n",
        "\n",
        "\n",
        "print('Confusion Matrix')\n",
        "print(confusion_matrix(classes, y_pred))\n",
        "print('Classification Report')\n",
        "print(classification_report(test_gen.classes[test_gen.index_array], y_pred, target_names=target_names))"
      ]
    },
    {
      "cell_type": "code",
      "execution_count": null,
      "metadata": {
        "colab": {},
        "colab_type": "code",
        "id": "loPv70m_zS1_"
      },
      "outputs": [],
      "source": []
    }
  ],
  "metadata": {
    "accelerator": "GPU",
    "colab": {
      "name": "cv_chess_model_and_eval.ipynb",
      "provenance": []
    },
    "kernelspec": {
      "display_name": "Python 3",
      "name": "python3"
    },
    "language_info": {
      "codemirror_mode": {
        "name": "ipython",
        "version": 3
      },
      "file_extension": ".py",
      "mimetype": "text/x-python",
      "name": "python",
      "nbconvert_exporter": "python",
      "pygments_lexer": "ipython3",
      "version": "3.7.11"
    }
  },
  "nbformat": 4,
  "nbformat_minor": 0
}
